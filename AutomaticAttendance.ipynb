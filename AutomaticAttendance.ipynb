{
  "nbformat": 4,
  "nbformat_minor": 0,
  "metadata": {
    "colab": {
      "name": "AutomaticAttendance.ipynb",
      "provenance": [],
      "collapsed_sections": [],
      "authorship_tag": "ABX9TyMWSxX+bIwTlks04rhcRPU/",
      "include_colab_link": true
    },
    "kernelspec": {
      "name": "python3",
      "display_name": "Python 3"
    },
    "language_info": {
      "name": "python"
    }
  },
  "cells": [
    {
      "cell_type": "markdown",
      "metadata": {
        "id": "view-in-github",
        "colab_type": "text"
      },
      "source": [
        "<a href=\"https://colab.research.google.com/github/issacharben/attendanceusingcv/blob/main/AutomaticAttendance.ipynb\" target=\"_parent\"><img src=\"https://colab.research.google.com/assets/colab-badge.svg\" alt=\"Open In Colab\"/></a>"
      ]
    },
    {
      "cell_type": "code",
      "metadata": {
        "id": "c4u4GqRdmfxm"
      },
      "source": [
        "! apt install tesseract-ocr\n",
        "! apt install libtesseract-dev"
      ],
      "execution_count": null,
      "outputs": []
    },
    {
      "cell_type": "code",
      "metadata": {
        "id": "Rypzge2smu5O"
      },
      "source": [
        "! pip install Pillow\n",
        "! pip install pytesseract"
      ],
      "execution_count": null,
      "outputs": []
    },
    {
      "cell_type": "code",
      "metadata": {
        "colab": {
          "base_uri": "https://localhost:8080/"
        },
        "id": "VIaa0egwoiK_",
        "outputId": "6bbf63c5-fba8-4c3b-81ba-243c3a626cbc"
      },
      "source": [
        "from PIL import Image\n",
        "import pytesseract\n",
        "\n",
        "image_path = '/content/drive/MyDrive/Arificial Intelligence/ACCESORY FILES/Attendence.png'\n",
        "text_from_image = pytesseract.image_to_string(Image.open(image_path))\n",
        "text_from_image = text_from_image.upper()\n",
        "\n",
        "file = open('present.txt', 'w')\n",
        "file.writelines(text_from_image)\n",
        "file = open('present.txt', 'r')\n",
        "present = []\n",
        "for line in file:\n",
        "  stripped_line = line.strip()\n",
        "  line_list = stripped_line.splitlines()\n",
        "  present.append(line_list)\n",
        "\n",
        "file.close()\n",
        "present = [x for l in present for x in l]\n",
        "print(present)\n",
        "\n",
        "student_list = ['ABINESH',\n",
        "'KISHORE KUMAR M AE 17',\n",
        "'BALASUBRAMANI V AE 5th SEM',\n",
        "'GNANAPRAKASH S AE 5th SEM',\n",
        "'KAVIN B AE 5TH SEM',\n",
        "'THARUN P S AE 5THSEM',\n",
        "'DHANUSH S K AE',\n",
        "'DHARANI S AE',\n",
        "'GAUTHAM G AE',\n",
        "'GIRIDHARAN R AE',\n",
        "'GOWTHAM S AE',\n",
        "'GUNASEELAN K AE',\n",
        "'GURUVIKNESH B AE',\n",
        "'HARIHARA SUDHAN R AE',\n",
        "'JANAKIRAMAN B AE',\n",
        "'KALARANJAN N AE',\n",
        "'LOKESH K AE',\n",
        "'RAGUL M AE',\n",
        "'RIDDHIKA R AE',\n",
        "'RIGTHESH J AE',\n",
        "'ROHITH RAJA S AE',\n",
        "'SABARISH R AE',\n",
        "'SHIBICHAKARAVARTHY S AE',\n",
        "'SIVASANKARAN K AE',\n",
        "'SOLAIYAPPAN S P AE',\n",
        "'SRIRAM MURUGAPPAN M AE',\n",
        "'SUDHARSHAN K V AE',\n",
        "'SURIA PRASATH KANNAN AE',\n",
        "'TAMILARASU S AE',\n",
        "'UJWAL GOEL M AE',\n",
        "'UMARALI A AE',\n",
        "'VAIGUNDHA VASAN P AE',\n",
        "'VIBIN PRASAD V R AE',\n",
        "'VIMAL P AE',\n",
        "'VISHWANTH R AE',\n",
        "'VISWA K AE',\n",
        "'YOGESHWARAN R AE',\n",
        "'YUVARAJ R AE',\n",
        "'JASPAR JEYANTH']\n",
        "\n"
      ],
      "execution_count": null,
      "outputs": [
        {
          "output_type": "stream",
          "name": "stdout",
          "text": [
            "['BALASUBRAMANI V AE STH SEM', 'GAUTHAM G AE', 'GNANAPRAKASH S AE STH SEM', 'CGURUVIKNESH B AE', 'JASPAR JEYANTH', 'KALARANJAN N AE', 'KISHORE KUMAR M AE 17', 'LOKESH K AE', 'RIDDHIKA RAE', 'RIGTHESH J AE', 'SIVASANKARAN K AE', 'SOLAIYAPPAN S P AE', 'SRIRAM MURUGAPPAN M AE', 'UMARALIA AE', 'VISHWANTH RAE', 'VISWA K AE', 'YUVARAJ RAE']\n"
          ]
        }
      ]
    },
    {
      "cell_type": "code",
      "metadata": {
        "id": "nrAd1QcI3DP_"
      },
      "source": [
        ""
      ],
      "execution_count": null,
      "outputs": []
    }
  ]
}