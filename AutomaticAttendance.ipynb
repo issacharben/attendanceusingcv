{
  "nbformat": 4,
  "nbformat_minor": 0,
  "metadata": {
    "colab": {
      "name": "AutomaticAttendance.ipynb",
      "provenance": [],
      "collapsed_sections": [],
      "mount_file_id": "1Sk_wBvgl_Q414gjiVn3XV8ddIkK0s037",
      "authorship_tag": "ABX9TyNGQSo3MwLJEVDnO/tAmp3J",
      "include_colab_link": true
    },
    "kernelspec": {
      "name": "python3",
      "display_name": "Python 3"
    },
    "language_info": {
      "name": "python"
    }
  },
  "cells": [
    {
      "cell_type": "markdown",
      "metadata": {
        "id": "view-in-github",
        "colab_type": "text"
      },
      "source": [
        "<a href=\"https://colab.research.google.com/github/issacharben/attendanceusingcv/blob/main/AutomaticAttendance.ipynb\" target=\"_parent\"><img src=\"https://colab.research.google.com/assets/colab-badge.svg\" alt=\"Open In Colab\"/></a>"
      ]
    },
    {
      "cell_type": "markdown",
      "metadata": {
        "id": "D5LSGiEHe5C3"
      },
      "source": [
        "\n",
        "# INSTALL PILLOW AND TESSERACT FOR COMPUTER VISION FUNCTIONS"
      ]
    },
    {
      "cell_type": "code",
      "metadata": {
        "id": "c4u4GqRdmfxm",
        "colab": {
          "base_uri": "https://localhost:8080/"
        },
        "outputId": "40299ecd-9d1f-4ced-954f-4b61c7fa62d6"
      },
      "source": [
        "! apt install tesseract-ocr\n",
        "! apt install libtesseract-dev"
      ],
      "execution_count": null,
      "outputs": [
        {
          "output_type": "stream",
          "name": "stdout",
          "text": [
            "Reading package lists... Done\n",
            "Building dependency tree       \n",
            "Reading state information... Done\n",
            "The following additional packages will be installed:\n",
            "  tesseract-ocr-eng tesseract-ocr-osd\n",
            "The following NEW packages will be installed:\n",
            "  tesseract-ocr tesseract-ocr-eng tesseract-ocr-osd\n",
            "0 upgraded, 3 newly installed, 0 to remove and 37 not upgraded.\n",
            "Need to get 4,795 kB of archives.\n",
            "After this operation, 15.8 MB of additional disk space will be used.\n",
            "Get:1 http://archive.ubuntu.com/ubuntu bionic/universe amd64 tesseract-ocr-eng all 4.00~git24-0e00fe6-1.2 [1,588 kB]\n",
            "Get:2 http://archive.ubuntu.com/ubuntu bionic/universe amd64 tesseract-ocr-osd all 4.00~git24-0e00fe6-1.2 [2,989 kB]\n",
            "Get:3 http://archive.ubuntu.com/ubuntu bionic/universe amd64 tesseract-ocr amd64 4.00~git2288-10f4998a-2 [218 kB]\n",
            "Fetched 4,795 kB in 1s (5,087 kB/s)\n",
            "Selecting previously unselected package tesseract-ocr-eng.\n",
            "(Reading database ... 155047 files and directories currently installed.)\n",
            "Preparing to unpack .../tesseract-ocr-eng_4.00~git24-0e00fe6-1.2_all.deb ...\n",
            "Unpacking tesseract-ocr-eng (4.00~git24-0e00fe6-1.2) ...\n",
            "Selecting previously unselected package tesseract-ocr-osd.\n",
            "Preparing to unpack .../tesseract-ocr-osd_4.00~git24-0e00fe6-1.2_all.deb ...\n",
            "Unpacking tesseract-ocr-osd (4.00~git24-0e00fe6-1.2) ...\n",
            "Selecting previously unselected package tesseract-ocr.\n",
            "Preparing to unpack .../tesseract-ocr_4.00~git2288-10f4998a-2_amd64.deb ...\n",
            "Unpacking tesseract-ocr (4.00~git2288-10f4998a-2) ...\n",
            "Setting up tesseract-ocr-osd (4.00~git24-0e00fe6-1.2) ...\n",
            "Setting up tesseract-ocr-eng (4.00~git24-0e00fe6-1.2) ...\n",
            "Setting up tesseract-ocr (4.00~git2288-10f4998a-2) ...\n",
            "Processing triggers for man-db (2.8.3-2ubuntu0.1) ...\n",
            "Reading package lists... Done\n",
            "Building dependency tree       \n",
            "Reading state information... Done\n",
            "The following additional packages will be installed:\n",
            "  libleptonica-dev\n",
            "The following NEW packages will be installed:\n",
            "  libleptonica-dev libtesseract-dev\n",
            "0 upgraded, 2 newly installed, 0 to remove and 37 not upgraded.\n",
            "Need to get 2,755 kB of archives.\n",
            "After this operation, 13.8 MB of additional disk space will be used.\n",
            "Get:1 http://archive.ubuntu.com/ubuntu bionic/universe amd64 libleptonica-dev amd64 1.75.3-3 [1,308 kB]\n",
            "Get:2 http://archive.ubuntu.com/ubuntu bionic/universe amd64 libtesseract-dev amd64 4.00~git2288-10f4998a-2 [1,447 kB]\n",
            "Fetched 2,755 kB in 1s (3,261 kB/s)\n",
            "Selecting previously unselected package libleptonica-dev.\n",
            "(Reading database ... 155094 files and directories currently installed.)\n",
            "Preparing to unpack .../libleptonica-dev_1.75.3-3_amd64.deb ...\n",
            "Unpacking libleptonica-dev (1.75.3-3) ...\n",
            "Selecting previously unselected package libtesseract-dev.\n",
            "Preparing to unpack .../libtesseract-dev_4.00~git2288-10f4998a-2_amd64.deb ...\n",
            "Unpacking libtesseract-dev (4.00~git2288-10f4998a-2) ...\n",
            "Setting up libleptonica-dev (1.75.3-3) ...\n",
            "Setting up libtesseract-dev (4.00~git2288-10f4998a-2) ...\n"
          ]
        }
      ]
    },
    {
      "cell_type": "code",
      "metadata": {
        "id": "Rypzge2smu5O",
        "colab": {
          "base_uri": "https://localhost:8080/"
        },
        "outputId": "10bfac81-818e-4d4b-8f02-a0fab2f36a41"
      },
      "source": [
        "! pip install Pillow\n",
        "! pip install pytesseract"
      ],
      "execution_count": null,
      "outputs": [
        {
          "output_type": "stream",
          "name": "stdout",
          "text": [
            "Requirement already satisfied: Pillow in /usr/local/lib/python3.7/dist-packages (7.1.2)\n",
            "Collecting pytesseract\n",
            "  Downloading pytesseract-0.3.8.tar.gz (14 kB)\n",
            "Requirement already satisfied: Pillow in /usr/local/lib/python3.7/dist-packages (from pytesseract) (7.1.2)\n",
            "Building wheels for collected packages: pytesseract\n",
            "  Building wheel for pytesseract (setup.py) ... \u001b[?25l\u001b[?25hdone\n",
            "  Created wheel for pytesseract: filename=pytesseract-0.3.8-py2.py3-none-any.whl size=14072 sha256=b4619341ac4f348e7592d97f411289fdb724e49d19ce56a87fd417afa4bbfe60\n",
            "  Stored in directory: /root/.cache/pip/wheels/a4/89/b9/3f11250225d0f90e5454fcc30fd1b7208db226850715aa9ace\n",
            "Successfully built pytesseract\n",
            "Installing collected packages: pytesseract\n",
            "Successfully installed pytesseract-0.3.8\n"
          ]
        }
      ]
    },
    {
      "cell_type": "markdown",
      "metadata": {
        "id": "GjSh-oWze9i_"
      },
      "source": [
        "\n",
        "\n",
        "# ATTENDANCE GENERATION CODE\n"
      ]
    },
    {
      "cell_type": "code",
      "metadata": {
        "colab": {
          "base_uri": "https://localhost:8080/",
          "height": 93
        },
        "id": "KNFG9ooPnWJo",
        "outputId": "6cf2eb3f-67ad-4280-99c6-c796a123364a"
      },
      "source": [
        "from PIL import Image\n",
        "import pytesseract\n",
        "present = []\n",
        "image_path = '/content/drive/MyDrive/Arificial Intelligence/ACCESORY FILES/present_students.png'\n",
        "text_from_image = pytesseract.image_to_string(Image.open(image_path))\n",
        "text_from_image = text_from_image.upper()\n",
        "text_from_image = text_from_image.replace(\"\\\\\", \"\")\n",
        "#text_from_image = text_from_image.replace(\" \", \"\")\n",
        "text_from_image = text_from_image.replace(\"CG\", \"G\")\n",
        "text_from_image = text_from_image.replace(\"STH\", \"5TH\")\n",
        "text_lines = text_from_image.splitlines()\n",
        "for line0 in text_lines:\n",
        "  stripped_line0 = line0.strip()\n",
        "  if stripped_line0 != \"\":\n",
        "    present.append(stripped_line0)\n",
        "\n",
        "absentees = []\n",
        "absentees_file = open('/content/drive/MyDrive/Arificial Intelligence/ACCESORY FILES/student_database.txt', 'r')\n",
        "for line1 in absentees_file:\n",
        "  stripped_line1 = line1.strip()\n",
        "  stripped_line1 = stripped_line1.upper()\n",
        "  #stripped_line1 = stripped_line1.replace(\" \", \"\")\n",
        "  absentees.append(stripped_line1)\n",
        "\n",
        "#print(present)\n",
        "print('Students Present in Class are: ', present)\n",
        "present_count = len(present)\n",
        "while present_count > 0:\n",
        "  for member in present:\n",
        "    for member2 in absentees: \n",
        "      if member == member2:\n",
        "        absentees.remove(member2)\n",
        "        #print(present_count)\n",
        "      present_count -= 1\n",
        "print('Absentees are: ', absentees)\n",
        "''"
      ],
      "execution_count": 10,
      "outputs": [
        {
          "output_type": "stream",
          "name": "stdout",
          "text": [
            "Students Present in Class are:  ['BENNETT JOSEPH D AE', 'GIRDHARANR AE', 'GNANAPRAKASH SAE 5TH.', 'JASPER JEYANTH', 'KALARANJANN AE', 'KAVA AE 5TH SEM', 'KISHORE KUMARM AE 17', 'LOKESHK AE', 'RAVIG AUT', 'RAVIG AUT', 'RIDDHIKAR AE', 'RIGTHESH JAE', 'ROHITH RALAS AE', 'SIVASANKARAN K AE', 'SOLAIAPPANSP AE', 'SRIRAM MURUGAPPAN M.', 'SUDHARSHANK VAE', 'VAIGUNDHA VASAN PAE', 'VISHWANTH RAE', 'VISWAK AE']\n",
            "Absentees are:  ['ABINESH', 'KISHORE KUMAR M AE 17', 'BALASUBRAMANI V AE 5TH SEM', 'GNANAPRAKASH S AE 5TH SEM', 'KAVIN B AE 5TH SEM', 'THARUN P S AE 5THSEM', 'DHANUSH S K AE', 'DHARANI S AE', 'GAUTHAM G AE', 'GIRIDHARAN R AE', 'GOWTHAM S AE', 'GUNASEELAN K AE', 'GURUVIKNESH B AE', 'HARIHARA SUDHAN R AE', 'JANAKIRAMAN B AE', 'KALARANJAN N AE', 'LOKESH K AE', 'RAGUL M AE', 'RIDDHIKA R AE', 'RIGTHESH J AE', 'ROHITH RAJA S AE', 'SABARISH R AE', 'SHIBICHAKARAVARTHY S AE', 'SOLAIYAPPAN S P AE', 'SRIRAM MURUGAPPAN M AE', 'SUDHARSHAN K V AE', 'SURIA PRASATH KANNAN AE', 'TAMILARASU S AE', 'UJWAL GOEL M AE', 'UMARALI A AE', 'VAIGUNDHA VASAN P AE', 'VIBIN PRASAD V R AE', 'VIMAL P AE', 'VISHWANTH R AE', 'VISWA K AE', 'YOGESHWARAN R AE', 'YUVARAJ R AE']\n"
          ]
        },
        {
          "output_type": "execute_result",
          "data": {
            "application/vnd.google.colaboratory.intrinsic+json": {
              "type": "string"
            },
            "text/plain": [
              "''"
            ]
          },
          "metadata": {},
          "execution_count": 10
        }
      ]
    },
    {
      "cell_type": "code",
      "metadata": {
        "id": "IKLtApl5fIPu"
      },
      "source": [
        ""
      ],
      "execution_count": null,
      "outputs": []
    }
  ]
}